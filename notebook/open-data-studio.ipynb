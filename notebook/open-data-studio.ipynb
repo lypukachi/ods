{
 "cells": [
  {
   "cell_type": "markdown",
   "metadata": {},
   "source": [
    "# Open data studio\n",
    "\n",
    "[Open data studio](https://open-datastudio.io) is managed computing computing service on [Staroid](https://staroid.com) cloud. Run your machine learning and large scale data processing workload without managing cluster and servers.\n",
    "\n",
    "Supported computing frameworks are\n",
    "\n",
    "  - [Apache Spark](https://spark.apache.org)\n",
    "  - [Dask](https://dask.org) (coming soon)\n",
    "  - [Ray](https://ray.io) (coming soon)\n",
    "\n",
    "Let's get started!"
   ]
  },
  {
   "cell_type": "markdown",
   "metadata": {},
   "source": [
    "## Configure\n",
    "\n",
    "First, you need a SKE (Star Kubernetes Engine) cluster from [staroid.com](https://staroid.com) and access token for it. SKE provides a fully managed, serverless Kubernetes namespace on the cloud.\n",
    "\n",
    "  - Sign up [staroid.com](https://staroid.com)\n",
    "  - Click 'Kubernetes' -> 'New Kubernetes cluster' to create a new SKE cluster.\n",
    "  - Get access token from 'Account' -> ['Access tokens'](https://staroid.com/settings/accesstokens) menu.\n",
    "  \n",
    "   \n",
    "And set `STAROID_SKE` and `STAROID_ACCOUNT` environment variable."
   ]
  },
  {
   "cell_type": "code",
   "execution_count": null,
   "metadata": {},
   "outputs": [],
   "source": [
    "import os\n",
    "\n",
    "os.environ[\"STAROID_SKE\"]=\"<your ske cluster name>\"\n",
    "os.environ[\"STAROID_ACCOUNT\"]=\"<your staroid access token>\""
   ]
  },
  {
   "cell_type": "markdown",
   "metadata": {},
   "source": [
    "Now you're ready to go!.\n",
    "Let's install and initialize [ods](https://github.com/open-datastudio/ods) module.\n",
    "\n",
    "## Install"
   ]
  },
  {
   "cell_type": "code",
   "execution_count": 1,
   "metadata": {},
   "outputs": [
    {
     "data": {
      "text/plain": [
       "<ods.ods.Ods at 0x7f26ac19c8b0>"
      ]
     },
     "execution_count": 1,
     "metadata": {},
     "output_type": "execute_result"
    }
   ],
   "source": [
    "!pip install -q ods\n",
    "\n",
    "import ods\n",
    "ods.init()"
   ]
  },
  {
   "cell_type": "markdown",
   "metadata": {},
   "source": [
    "## Spark cluster\n",
    "\n",
    "Getting Spark cluster is simple. Create a spark session using ods api. The api will download Spark (3.0.0), configure it, create workers on the cloud and connect to them automatically."
   ]
  },
  {
   "cell_type": "code",
   "execution_count": null,
   "metadata": {},
   "outputs": [],
   "source": [
    "my_cluster = ods.spark(\"your-spark-cluster-name\", worker_num=2)\n",
    "spark = my_cluster.session() # get spark session"
   ]
  },
  {
   "cell_type": "markdown",
   "metadata": {},
   "source": [
    "Great! now you've got spark session powered by powerful worker machines running on the cloud.\n",
    "\n",
    "Load your data and run your job!"
   ]
  },
  {
   "cell_type": "code",
   "execution_count": null,
   "metadata": {},
   "outputs": [],
   "source": [
    "# run spark job any spark \n",
    "df = spark.createDataFrame([{\"hello\": \"world\"} for x in range(100)])\n",
    "df.show()"
   ]
  },
  {
   "cell_type": "markdown",
   "metadata": {},
   "source": [
    "If you open a staroid managment console and navigate to `Kubernetes` -> `<your ske cluster name>` -> `<your-spark-cluster-name>`, you'll see your cluster is being created.\n",
    "\n",
    "You can also click `spark-ui` link and open Spark UI on your browser."
   ]
  },
  {
   "cell_type": "markdown",
   "metadata": {},
   "source": [
    "## Stop Spark session and clean up\n",
    "\n",
    "When spark is no longer needed, you can stop spark session and release executors."
   ]
  },
  {
   "cell_type": "code",
   "execution_count": null,
   "metadata": {},
   "outputs": [],
   "source": [
    "spark.stop() # stop spark session and release executors\n",
    "my_cluster.delete() # delete all cluster resources on the cloud."
   ]
  },
  {
   "cell_type": "markdown",
   "metadata": {},
   "source": [
    "## Get involved\n",
    "\n",
    "Open data studio is an open source project. Please give us feedback and feel free to get involved!\n",
    "\n",
    " - Feedbacks, questions - [ods issue tracker](https://github.com/open-datastudio/ods/issues)\n",
    " - [Staroid public dev roadmap](https://github.com/staroids/community/projects/1)"
   ]
  },
  {
   "cell_type": "markdown",
   "metadata": {},
   "source": [
    "## Commercial support\n",
    "\n",
    "[Staroid](https://staroid.com) actively contributes to Open data studio project and provides a commercial support. Please [contact](https://staroid.com/site/contact)."
   ]
  },
  {
   "cell_type": "code",
   "execution_count": null,
   "metadata": {},
   "outputs": [],
   "source": []
  }
 ],
 "metadata": {
  "kernelspec": {
   "display_name": "Python 3",
   "language": "python",
   "name": "python3"
  },
  "language_info": {
   "codemirror_mode": {
    "name": "ipython",
    "version": 3
   },
   "file_extension": ".py",
   "mimetype": "text/x-python",
   "name": "python",
   "nbconvert_exporter": "python",
   "pygments_lexer": "ipython3",
   "version": "3.8.5"
  }
 },
 "nbformat": 4,
 "nbformat_minor": 4
}
